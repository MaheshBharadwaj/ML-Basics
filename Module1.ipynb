{
 "cells": [
  {
   "cell_type": "markdown",
   "metadata": {},
   "source": [
    "# Machine Learning Basics\n",
    "In this module, you'll be acquiring and handling datasets. You will be using the Cinema Data, Salary Data and Reviews Data for the tasks in this module. <br> <br>\n",
    "**Pipeline:**\n",
    "* Acquiring the data\n",
    "* Handling files and formats\n",
    "* Data Analysis\n",
    "* Prediction\n",
    "* Analysing results"
   ]
  },
  {
   "cell_type": "markdown",
   "metadata": {},
   "source": [
    "## Task 1 - Data Acquisition\n",
    "* Retrieve the CinemaData dataset from Firebase, convert it to a CSV and save it in the 'Data' folder as 'CinemaData.csv'. You may use shell scripts, other packages and any other resources you require to do this. The database can be accessed with a HTTP request, ask a TA for the link. <br> \n",
    "* Using `wget`, download the 'SalaryData.txt' and save it in the 'Data' folder. Convert it to a CSV named 'SalaryData.csv' and save it in the same folder. It is avaliable at this link: <br>\n",
    "http://rebrand.ly/ml_salarydata"
   ]
  },
  {
   "cell_type": "code",
   "execution_count": 7,
   "metadata": {},
   "outputs": [],
   "source": [
    "import requests\n",
    "import pandas as pd\n"
   ]
  },
  {
   "cell_type": "code",
   "execution_count": 2,
   "metadata": {},
   "outputs": [],
   "source": [
    "data = requests.get('https://sf-mlbasics.firebaseio.com/CinemaData.json')"
   ]
  },
  {
   "cell_type": "code",
   "execution_count": 6,
   "metadata": {},
   "outputs": [
    {
     "data": {
      "text/html": [
       "<div>\n",
       "<style scoped>\n",
       "    .dataframe tbody tr th:only-of-type {\n",
       "        vertical-align: middle;\n",
       "    }\n",
       "\n",
       "    .dataframe tbody tr th {\n",
       "        vertical-align: top;\n",
       "    }\n",
       "\n",
       "    .dataframe thead th {\n",
       "        text-align: right;\n",
       "    }\n",
       "</style>\n",
       "<table border=\"1\" class=\"dataframe\">\n",
       "  <thead>\n",
       "    <tr style=\"text-align: right;\">\n",
       "      <th></th>\n",
       "      <th>Capacity</th>\n",
       "      <th>DaysShowedInWeek</th>\n",
       "      <th>Index</th>\n",
       "      <th>LastDate</th>\n",
       "      <th>Lifetime</th>\n",
       "      <th>Movie</th>\n",
       "      <th>OccAtWeek</th>\n",
       "      <th>OccPer</th>\n",
       "      <th>OtherReleasesInWeek</th>\n",
       "      <th>ReleaseDate</th>\n",
       "      <th>ShowsInWeek</th>\n",
       "      <th>WeeksSinceRelease</th>\n",
       "    </tr>\n",
       "  </thead>\n",
       "  <tbody>\n",
       "    <tr>\n",
       "      <th>0</th>\n",
       "      <td>3100</td>\n",
       "      <td>5</td>\n",
       "      <td>0</td>\n",
       "      <td>2015-12-17</td>\n",
       "      <td>2</td>\n",
       "      <td>0001000001</td>\n",
       "      <td>2494</td>\n",
       "      <td>0.804516</td>\n",
       "      <td>8</td>\n",
       "      <td>2015-12-04</td>\n",
       "      <td>10</td>\n",
       "      <td>0</td>\n",
       "    </tr>\n",
       "    <tr>\n",
       "      <th>1</th>\n",
       "      <td>3390</td>\n",
       "      <td>7</td>\n",
       "      <td>1</td>\n",
       "      <td>2015-12-17</td>\n",
       "      <td>2</td>\n",
       "      <td>0001000001</td>\n",
       "      <td>1932</td>\n",
       "      <td>0.569912</td>\n",
       "      <td>4</td>\n",
       "      <td>2015-12-04</td>\n",
       "      <td>14</td>\n",
       "      <td>1</td>\n",
       "    </tr>\n",
       "    <tr>\n",
       "      <th>2</th>\n",
       "      <td>860</td>\n",
       "      <td>2</td>\n",
       "      <td>2</td>\n",
       "      <td>2015-12-17</td>\n",
       "      <td>2</td>\n",
       "      <td>0001000001</td>\n",
       "      <td>222</td>\n",
       "      <td>0.258140</td>\n",
       "      <td>4</td>\n",
       "      <td>2015-12-04</td>\n",
       "      <td>4</td>\n",
       "      <td>2</td>\n",
       "    </tr>\n",
       "    <tr>\n",
       "      <th>3</th>\n",
       "      <td>110</td>\n",
       "      <td>1</td>\n",
       "      <td>3</td>\n",
       "      <td>2016-01-06</td>\n",
       "      <td>5</td>\n",
       "      <td>0001000002</td>\n",
       "      <td>59</td>\n",
       "      <td>0.536364</td>\n",
       "      <td>8</td>\n",
       "      <td>2015-12-04</td>\n",
       "      <td>1</td>\n",
       "      <td>0</td>\n",
       "    </tr>\n",
       "    <tr>\n",
       "      <th>4</th>\n",
       "      <td>720</td>\n",
       "      <td>6</td>\n",
       "      <td>4</td>\n",
       "      <td>2016-01-06</td>\n",
       "      <td>5</td>\n",
       "      <td>0001000002</td>\n",
       "      <td>630</td>\n",
       "      <td>0.875000</td>\n",
       "      <td>7</td>\n",
       "      <td>2015-12-04</td>\n",
       "      <td>6</td>\n",
       "      <td>3</td>\n",
       "    </tr>\n",
       "  </tbody>\n",
       "</table>\n",
       "</div>"
      ],
      "text/plain": [
       "   Capacity  DaysShowedInWeek  Index    LastDate  Lifetime       Movie  \\\n",
       "0      3100                 5      0  2015-12-17         2  0001000001   \n",
       "1      3390                 7      1  2015-12-17         2  0001000001   \n",
       "2       860                 2      2  2015-12-17         2  0001000001   \n",
       "3       110                 1      3  2016-01-06         5  0001000002   \n",
       "4       720                 6      4  2016-01-06         5  0001000002   \n",
       "\n",
       "   OccAtWeek    OccPer  OtherReleasesInWeek ReleaseDate  ShowsInWeek  \\\n",
       "0       2494  0.804516                    8  2015-12-04           10   \n",
       "1       1932  0.569912                    4  2015-12-04           14   \n",
       "2        222  0.258140                    4  2015-12-04            4   \n",
       "3         59  0.536364                    8  2015-12-04            1   \n",
       "4        630  0.875000                    7  2015-12-04            6   \n",
       "\n",
       "   WeeksSinceRelease  \n",
       "0                  0  \n",
       "1                  1  \n",
       "2                  2  \n",
       "3                  0  \n",
       "4                  3  "
      ]
     },
     "execution_count": 6,
     "metadata": {},
     "output_type": "execute_result"
    }
   ],
   "source": [
    "df = pd.DataFrame(data.json())\n",
    "df.to_csv('./Data/CinemaData.csv')\n",
    "df.head()"
   ]
  },
  {
   "cell_type": "code",
   "execution_count": 7,
   "metadata": {},
   "outputs": [],
   "source": [
    "!wget -q 'http://rebrand.ly/ml_salarydata' -O './Data/SalaryData.txt'"
   ]
  },
  {
   "cell_type": "code",
   "execution_count": 8,
   "metadata": {},
   "outputs": [
    {
     "data": {
      "text/html": [
       "<div>\n",
       "<style scoped>\n",
       "    .dataframe tbody tr th:only-of-type {\n",
       "        vertical-align: middle;\n",
       "    }\n",
       "\n",
       "    .dataframe tbody tr th {\n",
       "        vertical-align: top;\n",
       "    }\n",
       "\n",
       "    .dataframe thead th {\n",
       "        text-align: right;\n",
       "    }\n",
       "</style>\n",
       "<table border=\"1\" class=\"dataframe\">\n",
       "  <thead>\n",
       "    <tr style=\"text-align: right;\">\n",
       "      <th></th>\n",
       "      <th>YearsExperience</th>\n",
       "      <th>Salary</th>\n",
       "    </tr>\n",
       "  </thead>\n",
       "  <tbody>\n",
       "    <tr>\n",
       "      <th>0</th>\n",
       "      <td>1.1</td>\n",
       "      <td>39343</td>\n",
       "    </tr>\n",
       "    <tr>\n",
       "      <th>1</th>\n",
       "      <td>1.3</td>\n",
       "      <td>46205</td>\n",
       "    </tr>\n",
       "    <tr>\n",
       "      <th>2</th>\n",
       "      <td>1.5</td>\n",
       "      <td>37731</td>\n",
       "    </tr>\n",
       "    <tr>\n",
       "      <th>3</th>\n",
       "      <td>2.0</td>\n",
       "      <td>43525</td>\n",
       "    </tr>\n",
       "    <tr>\n",
       "      <th>4</th>\n",
       "      <td>2.2</td>\n",
       "      <td>39891</td>\n",
       "    </tr>\n",
       "  </tbody>\n",
       "</table>\n",
       "</div>"
      ],
      "text/plain": [
       "   YearsExperience  Salary\n",
       "0              1.1   39343\n",
       "1              1.3   46205\n",
       "2              1.5   37731\n",
       "3              2.0   43525\n",
       "4              2.2   39891"
      ]
     },
     "execution_count": 8,
     "metadata": {},
     "output_type": "execute_result"
    }
   ],
   "source": [
    "df2 = pd.read_csv('Data/SalaryData.txt',sep=' ')\n",
    "df2.to_csv('./Data/SalaryData.csv')\n",
    "df2.head()"
   ]
  },
  {
   "cell_type": "markdown",
   "metadata": {},
   "source": [
    "## Task 2 - Dataset Handling\n",
    "* You can find the Reviews Data in a RAR file in the 'Data' directory. Extract this dataset and use it for this module.\n",
    "\n",
    "* The dataset contains positive and negative movie reviews. The files 'Positive_Reviews.txt' and 'Negative_Reviews.txt' contain names of files having positive and negative reviews respectively. Create two directories ‘pos’ and ‘neg’, and segregate the reviews accordingly into the two directories.\n",
    "\n",
    "* Load ‘cv000_29590.csv’ and report the number of words present in the first column.\n",
    "\n",
    "* Find the number of unique words in the first column. For this task, ignore punctuations, that is, punctuations are not considered as a word or a part of it.\n",
    "\n",
    "* Lookups: OS module, String functions"
   ]
  },
  {
   "cell_type": "code",
   "execution_count": 4,
   "metadata": {},
   "outputs": [
    {
     "name": "stdout",
     "output_type": "stream",
     "text": [
      "mkdir: cannot create directory ‘Data/pos’: File exists\n",
      "mkdir: cannot create directory ‘Data/neg’: File exists\n"
     ]
    }
   ],
   "source": [
    "!mkdir 'Data/pos'\n",
    "\n",
    "\n",
    "with open('Data/Positive_Reviews.txt') as pos_file:\n",
    "    contents = pos_file.read()\n",
    "    \n",
    "    #First and last character are '[' and ']' \n",
    "    contents = contents[1:len(contents)-1]\n",
    "    \n",
    "    #Splitting the contents based on ',''\n",
    "    contents = contents.replace('\\'','')\n",
    "    contents = contents.replace(' ','')\n",
    "    filenames = contents.split(',')\n",
    "    for file in filenames:\n",
    "        !cp \"./Data/Reviews/$file\" \"./Data/pos/\"\n",
    "        "
   ]
  },
  {
   "cell_type": "code",
   "execution_count": 5,
   "metadata": {},
   "outputs": [
    {
     "name": "stdout",
     "output_type": "stream",
     "text": [
      "mkdir: cannot create directory ‘Data/neg’: File exists\r\n"
     ]
    }
   ],
   "source": [
    "!mkdir 'Data/neg'\n",
    "\n",
    "\n",
    "with open('Data/Negative_Reviews.txt') as neg_file:\n",
    "    contents = neg_file.read()\n",
    "    \n",
    "    #First and last character are '[' and ']' \n",
    "    contents = contents[1:len(contents)-1]\n",
    "    \n",
    "    #Splitting the contents based on ',''\n",
    "    contents = contents.replace('\\'','')\n",
    "    contents = contents.replace(' ','')\n",
    "    filenames = contents.split(',')\n",
    "    for file in filenames:\n",
    "        !cp \"./Data/Reviews/$file\" \"./Data/neg/\"\n",
    "        "
   ]
  },
  {
   "cell_type": "code",
   "execution_count": 85,
   "metadata": {},
   "outputs": [
    {
     "name": "stdout",
     "output_type": "stream",
     "text": [
      "The number of words:  191\n"
     ]
    }
   ],
   "source": [
    "df3 = pd.read_csv('./Data/Reviews/cv000_29590.txt')\n",
    "df3.fillna('',inplace=True)\n",
    "words=list()\n",
    "for line in df3[' superman ']:\n",
    "        line = line.replace('.','').replace('(','').replace(')','').replace('?','')\n",
    "        words.extend(line.split())\n",
    "print(\"The number of words: \",len(words))"
   ]
  },
  {
   "cell_type": "code",
   "execution_count": 86,
   "metadata": {},
   "outputs": [
    {
     "name": "stdout",
     "output_type": "stream",
     "text": [
      "The number of Unique words:  144\n"
     ]
    }
   ],
   "source": [
    "df3 = pd.read_csv('./Data/Reviews/cv000_29590.txt')\n",
    "df3.fillna('',inplace=True)\n",
    "words=set()\n",
    "for line in df3[' superman ']:\n",
    "        line = line.replace('.','').replace('(','').replace(')','').replace('?','')\n",
    "        for word in line.split():\n",
    "            words.add(word)\n",
    "print(\"The number of Unique words: \",len(words))"
   ]
  },
  {
   "cell_type": "code",
   "execution_count": null,
   "metadata": {},
   "outputs": [],
   "source": []
  }
 ],
 "metadata": {
  "kernelspec": {
   "display_name": "Python 3",
   "language": "python",
   "name": "python3"
  },
  "language_info": {
   "codemirror_mode": {
    "name": "ipython",
    "version": 3
   },
   "file_extension": ".py",
   "mimetype": "text/x-python",
   "name": "python",
   "nbconvert_exporter": "python",
   "pygments_lexer": "ipython3",
   "version": "3.7.6"
  }
 },
 "nbformat": 4,
 "nbformat_minor": 2
}
